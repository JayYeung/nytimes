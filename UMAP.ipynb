{
 "cells": [
  {
   "cell_type": "code",
   "execution_count": 1,
   "metadata": {},
   "outputs": [
    {
     "data": {
      "text/html": [
       "<div>\n",
       "<style scoped>\n",
       "    .dataframe tbody tr th:only-of-type {\n",
       "        vertical-align: middle;\n",
       "    }\n",
       "\n",
       "    .dataframe tbody tr th {\n",
       "        vertical-align: top;\n",
       "    }\n",
       "\n",
       "    .dataframe thead th {\n",
       "        text-align: right;\n",
       "    }\n",
       "</style>\n",
       "<table border=\"1\" class=\"dataframe\">\n",
       "  <thead>\n",
       "    <tr style=\"text-align: right;\">\n",
       "      <th></th>\n",
       "      <th>date</th>\n",
       "      <th>category</th>\n",
       "      <th>w1</th>\n",
       "      <th>w2</th>\n",
       "      <th>w3</th>\n",
       "      <th>w4</th>\n",
       "    </tr>\n",
       "  </thead>\n",
       "  <tbody>\n",
       "    <tr>\n",
       "      <th>471</th>\n",
       "      <td>2023-06-13</td>\n",
       "      <td>LETTER HOMOPHONES</td>\n",
       "      <td>ARE</td>\n",
       "      <td>QUEUE</td>\n",
       "      <td>SEA</td>\n",
       "      <td>WHY</td>\n",
       "    </tr>\n",
       "    <tr>\n",
       "      <th>472</th>\n",
       "      <td>2023-06-12</td>\n",
       "      <td>WET WEATHER</td>\n",
       "      <td>HAIL</td>\n",
       "      <td>RAIN</td>\n",
       "      <td>SLEET</td>\n",
       "      <td>SNOW</td>\n",
       "    </tr>\n",
       "    <tr>\n",
       "      <th>473</th>\n",
       "      <td>2023-06-12</td>\n",
       "      <td>NBA TEAMS</td>\n",
       "      <td>BUCKS</td>\n",
       "      <td>HEAT</td>\n",
       "      <td>JAZZ</td>\n",
       "      <td>NETS</td>\n",
       "    </tr>\n",
       "    <tr>\n",
       "      <th>474</th>\n",
       "      <td>2023-06-12</td>\n",
       "      <td>KEYBOARD KEYS</td>\n",
       "      <td>OPTION</td>\n",
       "      <td>RETURN</td>\n",
       "      <td>SHIFT</td>\n",
       "      <td>TAB</td>\n",
       "    </tr>\n",
       "    <tr>\n",
       "      <th>475</th>\n",
       "      <td>2023-06-12</td>\n",
       "      <td>PALINDROMES</td>\n",
       "      <td>KAYAK</td>\n",
       "      <td>LEVEL</td>\n",
       "      <td>MOM</td>\n",
       "      <td>RACE CAR</td>\n",
       "    </tr>\n",
       "  </tbody>\n",
       "</table>\n",
       "</div>"
      ],
      "text/plain": [
       "           date           category      w1      w2     w3        w4\n",
       "471  2023-06-13  LETTER HOMOPHONES     ARE   QUEUE    SEA       WHY\n",
       "472  2023-06-12        WET WEATHER    HAIL    RAIN  SLEET      SNOW\n",
       "473  2023-06-12          NBA TEAMS   BUCKS    HEAT   JAZZ      NETS\n",
       "474  2023-06-12      KEYBOARD KEYS  OPTION  RETURN  SHIFT       TAB\n",
       "475  2023-06-12        PALINDROMES   KAYAK   LEVEL    MOM  RACE CAR"
      ]
     },
     "execution_count": 1,
     "metadata": {},
     "output_type": "execute_result"
    }
   ],
   "source": [
    "import pandas as pd\n",
    "\n",
    "df = pd.read_csv('connections_clean.csv')\n",
    "df.tail()"
   ]
  },
  {
   "cell_type": "code",
   "execution_count": 2,
   "metadata": {},
   "outputs": [
    {
     "data": {
      "text/plain": [
       "array([-0.06277172,  0.05495872,  0.05216478,  0.08578996, -0.08274896,\n",
       "       -0.07457294,  0.06855468,  0.01839648, -0.08201128, -0.03738483],\n",
       "      dtype=float32)"
      ]
     },
     "execution_count": 2,
     "metadata": {},
     "output_type": "execute_result"
    }
   ],
   "source": [
    "from functools import cache\n",
    "from keybert import KeyBERT\n",
    "import numpy as np\n",
    "\n",
    "kw_model = KeyBERT(model='all-MiniLM-L6-v2')\n",
    "\n",
    "@cache\n",
    "def create_embeddings(texts):\n",
    "    try : \n",
    "        return np.array(kw_model.extract_embeddings(texts)[0][0])\n",
    "    except:\n",
    "        return np.zeros(384)\n",
    "\n",
    "create_embeddings('hello')[:10]"
   ]
  },
  {
   "cell_type": "code",
   "execution_count": 3,
   "metadata": {},
   "outputs": [
    {
     "data": {
      "text/html": [
       "<div>\n",
       "<style scoped>\n",
       "    .dataframe tbody tr th:only-of-type {\n",
       "        vertical-align: middle;\n",
       "    }\n",
       "\n",
       "    .dataframe tbody tr th {\n",
       "        vertical-align: top;\n",
       "    }\n",
       "\n",
       "    .dataframe thead th {\n",
       "        text-align: right;\n",
       "    }\n",
       "</style>\n",
       "<table border=\"1\" class=\"dataframe\">\n",
       "  <thead>\n",
       "    <tr style=\"text-align: right;\">\n",
       "      <th></th>\n",
       "      <th>label</th>\n",
       "      <th>word</th>\n",
       "      <th>embedding</th>\n",
       "    </tr>\n",
       "  </thead>\n",
       "  <tbody>\n",
       "    <tr>\n",
       "      <th>0</th>\n",
       "      <td>0</td>\n",
       "      <td>ANNIVERSARY</td>\n",
       "      <td>[-0.06276984, 0.10821476, 0.047664665, -0.0253...</td>\n",
       "    </tr>\n",
       "    <tr>\n",
       "      <th>1</th>\n",
       "      <td>0</td>\n",
       "      <td>BIRTHDAY</td>\n",
       "      <td>[-0.084567346, 0.11157629, -0.006238818, 0.041...</td>\n",
       "    </tr>\n",
       "    <tr>\n",
       "      <th>2</th>\n",
       "      <td>0</td>\n",
       "      <td>SHOWER</td>\n",
       "      <td>[-0.004404458, 0.015580897, 0.112289116, 0.019...</td>\n",
       "    </tr>\n",
       "    <tr>\n",
       "      <th>3</th>\n",
       "      <td>0</td>\n",
       "      <td>WEDDING</td>\n",
       "      <td>[-0.016065089, 0.090614215, 0.003278323, 0.038...</td>\n",
       "    </tr>\n",
       "    <tr>\n",
       "      <th>4</th>\n",
       "      <td>1</td>\n",
       "      <td>BARS</td>\n",
       "      <td>[-0.010722448, 0.019358307, -0.021829613, 0.01...</td>\n",
       "    </tr>\n",
       "  </tbody>\n",
       "</table>\n",
       "</div>"
      ],
      "text/plain": [
       "   label         word                                          embedding\n",
       "0      0  ANNIVERSARY  [-0.06276984, 0.10821476, 0.047664665, -0.0253...\n",
       "1      0     BIRTHDAY  [-0.084567346, 0.11157629, -0.006238818, 0.041...\n",
       "2      0       SHOWER  [-0.004404458, 0.015580897, 0.112289116, 0.019...\n",
       "3      0      WEDDING  [-0.016065089, 0.090614215, 0.003278323, 0.038...\n",
       "4      1         BARS  [-0.010722448, 0.019358307, -0.021829613, 0.01..."
      ]
     },
     "execution_count": 3,
     "metadata": {},
     "output_type": "execute_result"
    }
   ],
   "source": [
    "label = []\n",
    "word = []\n",
    "\n",
    "for idx, row in df.iterrows():\n",
    "    for i in range(1, 5):\n",
    "        word.append(row[f'w{i}'])\n",
    "    label.extend([idx] * 4)\n",
    "\n",
    "finished_df = pd.DataFrame({'label': label, 'word': word})\n",
    "finished_df['embedding'] = finished_df['word'].apply(create_embeddings)\n",
    "finished_df.head()"
   ]
  },
  {
   "cell_type": "code",
   "execution_count": 4,
   "metadata": {},
   "outputs": [
    {
     "data": {
      "text/plain": [
       "Text(0.5, 1.0, 'Embedded via UMAP using Labels')"
      ]
     },
     "execution_count": 4,
     "metadata": {},
     "output_type": "execute_result"
    },
    {
     "data": {
      "image/png": "[encoded data removed]",
      "text/plain": [
       "<Figure size 640x480 with 1 Axes>"
      ]
     },
     "metadata": {},
     "output_type": "display_data"
    }
   ],
   "source": [
    "import umap\n",
    "import numpy as np\n",
    "from sklearn.preprocessing import StandardScaler\n",
    "import matplotlib.pyplot as plt\n",
    "import pandas as pd\n",
    "\n",
    "reducer = umap.UMAP(n_neighbors=15, n_components=2, metric='euclidean')\n",
    "embeddings = np.array(finished_df['embedding'].to_list())\n",
    "embeddings_scaled = StandardScaler().fit_transform(embeddings)\n",
    "labels = np.array(finished_df['label'])\n",
    "\n",
    "embedding = reducer.fit_transform(embeddings_scaled, y=labels)\n",
    "\n",
    "\n",
    "fig, ax = plt.subplots()\n",
    "\n",
    "plt.scatter(*embedding.T, s=0.1, c=labels, cmap='Spectral', alpha=1.0)\n",
    "plt.setp(ax, xticks=[], yticks=[])\n",
    "plt.title('Embedded via UMAP using Labels')"
   ]
  },
  {
   "cell_type": "code",
   "execution_count": 9,
   "metadata": {},
   "outputs": [
    {
     "data": {
      "text/plain": [
       "array([-19.466295,  46.546803], dtype=float32)"
      ]
     },
     "execution_count": 9,
     "metadata": {},
     "output_type": "execute_result"
    }
   ],
   "source": [
    "reducer.transform([finished_df['embedding'][0]])[0]"
   ]
  },
  {
   "cell_type": "code",
   "execution_count": 10,
   "metadata": {},
   "outputs": [
    {
     "name": "stderr",
     "output_type": "stream",
     "text": [
      "100%|██████████| 1904/1904 [22:58<00:00,  1.38it/s]\n"
     ]
    }
   ],
   "source": [
    "from tqdm import tqdm\n",
    "tqdm.pandas()\n",
    "\n",
    "\n",
    "finished_df['umap'] = finished_df['embedding'].progress_apply(lambda x: reducer.transform([x])[0])\n"
   ]
  },
  {
   "cell_type": "code",
   "execution_count": 16,
   "metadata": {},
   "outputs": [],
   "source": [
    "finished_df.to_csv('umap.csv', index=False)"
   ]
  },
  {
   "cell_type": "code",
   "execution_count": null,
   "metadata": {},
   "outputs": [],
   "source": []
  }
 ],
 "metadata": {
  "kernelspec": {
   "display_name": "Python 3",
   "language": "python",
   "name": "python3"
  },
  "language_info": {
   "codemirror_mode": {
    "name": "ipython",
    "version": 3
   },
   "file_extension": ".py",
   "mimetype": "text/x-python",
   "name": "python",
   "nbconvert_exporter": "python",
   "pygments_lexer": "ipython3",
   "version": "3.11.6"
  }
 },
 "nbformat": 4,
 "nbformat_minor": 2
}
