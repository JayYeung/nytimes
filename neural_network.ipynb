{
 "cells": [
  {
   "cell_type": "code",
   "execution_count": 1,
   "metadata": {},
   "outputs": [],
   "source": [
    "from functools import cache\n",
    "from keybert import KeyBERT\n",
    "import numpy as np\n",
    "import pandas as pd\n",
    "\n",
    "kw_model = KeyBERT(model='all-MiniLM-L6-v2')\n",
    "\n",
    "@cache\n",
    "def create_embeddings(texts):\n",
    "    try : \n",
    "        return np.array(kw_model.extract_embeddings(texts)[0][0])\n",
    "    except:\n",
    "        return np.zeros(384)"
   ]
  },
  {
   "cell_type": "code",
   "execution_count": 2,
   "metadata": {},
   "outputs": [
    {
     "data": {
      "text/html": [
       "<div>\n",
       "<style scoped>\n",
       "    .dataframe tbody tr th:only-of-type {\n",
       "        vertical-align: middle;\n",
       "    }\n",
       "\n",
       "    .dataframe tbody tr th {\n",
       "        vertical-align: top;\n",
       "    }\n",
       "\n",
       "    .dataframe thead th {\n",
       "        text-align: right;\n",
       "    }\n",
       "</style>\n",
       "<table border=\"1\" class=\"dataframe\">\n",
       "  <thead>\n",
       "    <tr style=\"text-align: right;\">\n",
       "      <th></th>\n",
       "      <th>label</th>\n",
       "      <th>word</th>\n",
       "      <th>embedding</th>\n",
       "      <th>puzzle</th>\n",
       "    </tr>\n",
       "  </thead>\n",
       "  <tbody>\n",
       "    <tr>\n",
       "      <th>0</th>\n",
       "      <td>0</td>\n",
       "      <td>ANNIVERSARY</td>\n",
       "      <td>[-0.06276984, 0.10821476, 0.047664665, -0.0253...</td>\n",
       "      <td>0</td>\n",
       "    </tr>\n",
       "    <tr>\n",
       "      <th>1</th>\n",
       "      <td>0</td>\n",
       "      <td>BIRTHDAY</td>\n",
       "      <td>[-0.084567346, 0.11157629, -0.006238818, 0.041...</td>\n",
       "      <td>0</td>\n",
       "    </tr>\n",
       "    <tr>\n",
       "      <th>2</th>\n",
       "      <td>0</td>\n",
       "      <td>SHOWER</td>\n",
       "      <td>[-0.004404458, 0.015580897, 0.112289116, 0.019...</td>\n",
       "      <td>0</td>\n",
       "    </tr>\n",
       "    <tr>\n",
       "      <th>3</th>\n",
       "      <td>0</td>\n",
       "      <td>WEDDING</td>\n",
       "      <td>[-0.016065089, 0.090614215, 0.003278323, 0.038...</td>\n",
       "      <td>0</td>\n",
       "    </tr>\n",
       "    <tr>\n",
       "      <th>4</th>\n",
       "      <td>1</td>\n",
       "      <td>BARS</td>\n",
       "      <td>[-0.010722448, 0.019358307, -0.021829613, 0.01...</td>\n",
       "      <td>0</td>\n",
       "    </tr>\n",
       "  </tbody>\n",
       "</table>\n",
       "</div>"
      ],
      "text/plain": [
       "   label         word                                          embedding  \\\n",
       "0      0  ANNIVERSARY  [-0.06276984, 0.10821476, 0.047664665, -0.0253...   \n",
       "1      0     BIRTHDAY  [-0.084567346, 0.11157629, -0.006238818, 0.041...   \n",
       "2      0       SHOWER  [-0.004404458, 0.015580897, 0.112289116, 0.019...   \n",
       "3      0      WEDDING  [-0.016065089, 0.090614215, 0.003278323, 0.038...   \n",
       "4      1         BARS  [-0.010722448, 0.019358307, -0.021829613, 0.01...   \n",
       "\n",
       "   puzzle  \n",
       "0       0  \n",
       "1       0  \n",
       "2       0  \n",
       "3       0  \n",
       "4       0  "
      ]
     },
     "execution_count": 2,
     "metadata": {},
     "output_type": "execute_result"
    }
   ],
   "source": [
    "df = pd.read_csv('connections_clean.csv')\n",
    "\n",
    "label = []\n",
    "word = []\n",
    "\n",
    "for idx, row in df.iterrows():\n",
    "    for i in range(1, 5):\n",
    "        word.append(row[f'w{i}'])\n",
    "    label.extend([idx] * 4)\n",
    "\n",
    "finished_df = pd.DataFrame({'label': label, 'word': word})\n",
    "finished_df['embedding'] = finished_df['word'].apply(create_embeddings)\n",
    "finished_df['puzzle'] = np.arange(len(finished_df)) // 16\n",
    "finished_df.head()"
   ]
  },
  {
   "cell_type": "code",
   "execution_count": 28,
   "metadata": {},
   "outputs": [],
   "source": [
    "NUM_DATA_PER_PUZZLE = 200\n",
    "\n",
    "X = []\n",
    "Y = []\n",
    "\n",
    "for idx, i in finished_df.groupby('puzzle'):\n",
    "    for _ in range(NUM_DATA_PER_PUZZLE - len(i)):\n",
    "        stacked = []\n",
    "        sample = i.sample(n = 16, replace = False)\n",
    "        for embedding in sample['embedding']:\n",
    "            stacked.extend(embedding)\n",
    "        X.append(stacked)\n",
    "        if sample['label'].iloc[0] == sample['label'].iloc[1]:\n",
    "            Y.append(1)\n",
    "        else: \n",
    "            Y.append(0)"
   ]
  },
  {
   "cell_type": "code",
   "execution_count": 29,
   "metadata": {},
   "outputs": [],
   "source": [
    "from sklearn.model_selection import train_test_split\n",
    "\n",
    "X = np.array(X)\n",
    "Y = np.array(Y)\n",
    "\n",
    "X_train, X_test, Y_train, Y_test = train_test_split(X, Y, test_size = 0.2)"
   ]
  },
  {
   "cell_type": "code",
   "execution_count": 31,
   "metadata": {},
   "outputs": [
    {
     "name": "stdout",
     "output_type": "stream",
     "text": [
      "Epoch 1/100\n",
      "2342/2342 [==============================] - 20s 8ms/step - loss: 0.7187 - accuracy: 0.6340 - val_loss: 0.5158 - val_accuracy: 0.7990\n",
      "Epoch 2/100\n",
      "2342/2342 [==============================] - 12s 5ms/step - loss: 0.5661 - accuracy: 0.7590 - val_loss: 0.5058 - val_accuracy: 0.7990\n",
      "Epoch 3/100\n",
      "2342/2342 [==============================] - 12s 5ms/step - loss: 0.5339 - accuracy: 0.7892 - val_loss: 0.5036 - val_accuracy: 0.7990\n",
      "Epoch 4/100\n",
      "2342/2342 [==============================] - 12s 5ms/step - loss: 0.5203 - accuracy: 0.7983 - val_loss: 0.5028 - val_accuracy: 0.7990\n",
      "Epoch 5/100\n",
      "2342/2342 [==============================] - 13s 6ms/step - loss: 0.5117 - accuracy: 0.8010 - val_loss: 0.5025 - val_accuracy: 0.7990\n",
      "Epoch 6/100\n",
      "2342/2342 [==============================] - 16s 7ms/step - loss: 0.5075 - accuracy: 0.8015 - val_loss: 0.5020 - val_accuracy: 0.7990\n",
      "Epoch 7/100\n",
      "2342/2342 [==============================] - 13s 5ms/step - loss: 0.5045 - accuracy: 0.8016 - val_loss: 0.5023 - val_accuracy: 0.7990\n",
      "Epoch 8/100\n",
      "2342/2342 [==============================] - 13s 5ms/step - loss: 0.5029 - accuracy: 0.8016 - val_loss: 0.5035 - val_accuracy: 0.7990\n",
      "Epoch 9/100\n",
      "2342/2342 [==============================] - 13s 6ms/step - loss: 0.5007 - accuracy: 0.8016 - val_loss: 0.5046 - val_accuracy: 0.7990\n",
      "Epoch 10/100\n",
      "2342/2342 [==============================] - 13s 6ms/step - loss: 0.4956 - accuracy: 0.8016 - val_loss: 0.5119 - val_accuracy: 0.7990\n",
      "Epoch 11/100\n",
      "2342/2342 [==============================] - 13s 6ms/step - loss: 0.4918 - accuracy: 0.8012 - val_loss: 0.5188 - val_accuracy: 0.7990\n"
     ]
    }
   ],
   "source": [
    "from tensorflow.keras.models import Sequential\n",
    "from tensorflow.keras.callbacks import EarlyStopping\n",
    "from tensorflow.keras.layers import Dense, Dropout, BatchNormalization\n",
    "from tensorflow.keras.optimizers.legacy import Adam # legacy faster on m2 macs\n",
    "import tensorflow_addons as tfa\n",
    "\n",
    "model = Sequential([\n",
    "    Dense(512, activation='relu', input_shape=(16*384,)),\n",
    "    BatchNormalization(),\n",
    "    Dropout(0.5),\n",
    "    Dense(256, activation='relu'),\n",
    "    BatchNormalization(),\n",
    "    Dropout(0.5),\n",
    "    Dense(128, activation='relu'),\n",
    "    BatchNormalization(),\n",
    "    Dropout(0.5),\n",
    "    Dense(64, activation='relu'),\n",
    "    BatchNormalization(),\n",
    "    Dropout(0.5),\n",
    "    Dense(1, activation='sigmoid')\n",
    "])\n",
    "\n",
    "model.compile(optimizer=Adam(learning_rate=0.0001), loss='binary_crossentropy', metrics=['accuracy'])\n",
    "history = model.fit(X_train, Y_train, epochs=100, batch_size=32, validation_split=0.2, callbacks=[EarlyStopping(patience=5)])"
   ]
  },
  {
   "cell_type": "code",
   "execution_count": 32,
   "metadata": {},
   "outputs": [
    {
     "data": {
      "image/png": "[encoded data removed]",
      "text/plain": [
       "<Figure size 1200x400 with 2 Axes>"
      ]
     },
     "metadata": {},
     "output_type": "display_data"
    },
    {
     "name": "stdout",
     "output_type": "stream",
     "text": [
      "2928/2928 [==============================] - 5s 2ms/step - loss: 0.4903 - accuracy: 0.8011\n",
      "Train accuracy: 0.8010803461074829\n",
      "732/732 [==============================] - 1s 2ms/step - loss: 0.5087 - accuracy: 0.8042\n",
      "Val accuracy: 0.8042271733283997\n"
     ]
    }
   ],
   "source": [
    "import matplotlib.pyplot as plt\n",
    "\n",
    "plt.figure(figsize=(12, 4))\n",
    "plt.subplot(1, 2, 1)\n",
    "plt.plot(history.history['accuracy'])\n",
    "plt.plot(history.history['val_accuracy'])\n",
    "plt.title('Model accuracy')\n",
    "plt.ylabel('Accuracy')\n",
    "plt.xlabel('Epoch')\n",
    "plt.legend(['Train', 'Val'], loc='upper left')\n",
    "\n",
    "plt.subplot(1, 2, 2)\n",
    "plt.plot(history.history['loss'])\n",
    "plt.plot(history.history['val_loss'])\n",
    "plt.title('Model loss')\n",
    "plt.ylabel('Loss')\n",
    "plt.xlabel('Epoch')\n",
    "plt.legend(['Train', 'Val'], loc='upper left')\n",
    "\n",
    "plt.show()\n",
    "\n",
    "print(f'Train accuracy: {model.evaluate(X_train, Y_train)[1]}')\n",
    "print(f'Val accuracy: {model.evaluate(X_test, Y_test)[1]}')"
   ]
  },
  {
   "cell_type": "code",
   "execution_count": 34,
   "metadata": {},
   "outputs": [
    {
     "name": "stdout",
     "output_type": "stream",
     "text": [
      "732/732 [==============================] - 1s 2ms/step\n",
      "Predicted same: 0 out of 23420\n"
     ]
    }
   ],
   "source": [
    "same = 0 \n",
    "for i in model.predict(X_test):\n",
    "    if i[0] > 0.5:\n",
    "        same += 1\n",
    "\n",
    "print(f'Predicted same: {same} out of {len(Y_test)}')\n"
   ]
  },
  {
   "cell_type": "code",
   "execution_count": null,
   "metadata": {},
   "outputs": [],
   "source": []
  }
 ],
 "metadata": {
  "kernelspec": {
   "display_name": "Python 3",
   "language": "python",
   "name": "python3"
  },
  "language_info": {
   "codemirror_mode": {
    "name": "ipython",
    "version": 3
   },
   "file_extension": ".py",
   "mimetype": "text/x-python",
   "name": "python",
   "nbconvert_exporter": "python",
   "pygments_lexer": "ipython3",
   "version": "3.11.6"
  }
 },
 "nbformat": 4,
 "nbformat_minor": 2
}
