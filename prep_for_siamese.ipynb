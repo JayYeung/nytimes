{
 "cells": [
  {
   "cell_type": "code",
   "execution_count": 1,
   "metadata": {},
   "outputs": [],
   "source": [
    "from functools import cache\n",
    "from keybert import KeyBERT\n",
    "import numpy as np\n",
    "import pandas as pd\n",
    "\n",
    "kw_model = KeyBERT(model='all-MiniLM-L6-v2')\n",
    "\n",
    "@cache\n",
    "def create_embeddings(texts):\n",
    "    try : \n",
    "        return np.array(kw_model.extract_embeddings(texts)[0][0])\n",
    "    except:\n",
    "        return np.zeros(384)"
   ]
  },
  {
   "cell_type": "code",
   "execution_count": 2,
   "metadata": {},
   "outputs": [
    {
     "data": {
      "text/html": [
       "<div>\n",
       "<style scoped>\n",
       "    .dataframe tbody tr th:only-of-type {\n",
       "        vertical-align: middle;\n",
       "    }\n",
       "\n",
       "    .dataframe tbody tr th {\n",
       "        vertical-align: top;\n",
       "    }\n",
       "\n",
       "    .dataframe thead th {\n",
       "        text-align: right;\n",
       "    }\n",
       "</style>\n",
       "<table border=\"1\" class=\"dataframe\">\n",
       "  <thead>\n",
       "    <tr style=\"text-align: right;\">\n",
       "      <th></th>\n",
       "      <th>label</th>\n",
       "      <th>word</th>\n",
       "      <th>embedding</th>\n",
       "      <th>puzzle</th>\n",
       "    </tr>\n",
       "  </thead>\n",
       "  <tbody>\n",
       "    <tr>\n",
       "      <th>0</th>\n",
       "      <td>0</td>\n",
       "      <td>ANNIVERSARY</td>\n",
       "      <td>[-0.06276984, 0.10821476, 0.047664665, -0.0253...</td>\n",
       "      <td>0</td>\n",
       "    </tr>\n",
       "    <tr>\n",
       "      <th>1</th>\n",
       "      <td>0</td>\n",
       "      <td>BIRTHDAY</td>\n",
       "      <td>[-0.084567346, 0.11157629, -0.006238818, 0.041...</td>\n",
       "      <td>0</td>\n",
       "    </tr>\n",
       "    <tr>\n",
       "      <th>2</th>\n",
       "      <td>0</td>\n",
       "      <td>SHOWER</td>\n",
       "      <td>[-0.004404458, 0.015580897, 0.112289116, 0.019...</td>\n",
       "      <td>0</td>\n",
       "    </tr>\n",
       "    <tr>\n",
       "      <th>3</th>\n",
       "      <td>0</td>\n",
       "      <td>WEDDING</td>\n",
       "      <td>[-0.016065089, 0.090614215, 0.003278323, 0.038...</td>\n",
       "      <td>0</td>\n",
       "    </tr>\n",
       "    <tr>\n",
       "      <th>4</th>\n",
       "      <td>1</td>\n",
       "      <td>BARS</td>\n",
       "      <td>[-0.010722448, 0.019358307, -0.021829613, 0.01...</td>\n",
       "      <td>0</td>\n",
       "    </tr>\n",
       "  </tbody>\n",
       "</table>\n",
       "</div>"
      ],
      "text/plain": [
       "   label         word                                          embedding  \\\n",
       "0      0  ANNIVERSARY  [-0.06276984, 0.10821476, 0.047664665, -0.0253...   \n",
       "1      0     BIRTHDAY  [-0.084567346, 0.11157629, -0.006238818, 0.041...   \n",
       "2      0       SHOWER  [-0.004404458, 0.015580897, 0.112289116, 0.019...   \n",
       "3      0      WEDDING  [-0.016065089, 0.090614215, 0.003278323, 0.038...   \n",
       "4      1         BARS  [-0.010722448, 0.019358307, -0.021829613, 0.01...   \n",
       "\n",
       "   puzzle  \n",
       "0       0  \n",
       "1       0  \n",
       "2       0  \n",
       "3       0  \n",
       "4       0  "
      ]
     },
     "execution_count": 2,
     "metadata": {},
     "output_type": "execute_result"
    }
   ],
   "source": [
    "df = pd.read_csv('connections_clean.csv')\n",
    "\n",
    "label = []\n",
    "word = []\n",
    "\n",
    "for idx, row in df.iterrows():\n",
    "    for i in range(1, 5):\n",
    "        word.append(row[f'w{i}'])\n",
    "    label.extend([idx] * 4)\n",
    "\n",
    "finished_df = pd.DataFrame({'label': label, 'word': word})\n",
    "finished_df['embedding'] = finished_df['word'].apply(create_embeddings)\n",
    "finished_df['puzzle'] = np.arange(len(finished_df)) // 16\n",
    "finished_df.head()"
   ]
  },
  {
   "cell_type": "code",
   "execution_count": 3,
   "metadata": {},
   "outputs": [],
   "source": [
    "from tqdm import tqdm\n",
    "\n",
    "NUM_DATA_PER_PUZZLE = 500\n",
    "\n",
    "X = []\n",
    "Y = []\n",
    "\n",
    "for idx, i in finished_df.groupby('puzzle'):\n",
    "    for _ in range(NUM_DATA_PER_PUZZLE):\n",
    "        stacked = []\n",
    "        sample = i.sample(n = 16, replace = False)\n",
    "        for embedding in sample['embedding']:\n",
    "            stacked.extend(embedding)\n",
    "        X.append(stacked)\n",
    "        if sample['label'].iloc[0] == sample['label'].iloc[1]:\n",
    "            Y.append(1)\n",
    "        else: \n",
    "            Y.append(0)"
   ]
  },
  {
   "cell_type": "code",
   "execution_count": 4,
   "metadata": {},
   "outputs": [],
   "source": [
    "data_dict = {f'feature_{i}': [x[i] for x in X] for i in range(len(X[0]))}\n",
    "data_dict['label'] = Y\n",
    "data_df = pd.DataFrame(data_dict)\n",
    "\n",
    "\n",
    "data_df.to_csv('siamese_big.csv', index=False)"
   ]
  },
  {
   "cell_type": "code",
   "execution_count": null,
   "metadata": {},
   "outputs": [],
   "source": []
  }
 ],
 "metadata": {
  "kernelspec": {
   "display_name": "Python 3",
   "language": "python",
   "name": "python3"
  },
  "language_info": {
   "codemirror_mode": {
    "name": "ipython",
    "version": 3
   },
   "file_extension": ".py",
   "mimetype": "text/x-python",
   "name": "python",
   "nbconvert_exporter": "python",
   "pygments_lexer": "ipython3",
   "version": "3.11.6"
  }
 },
 "nbformat": 4,
 "nbformat_minor": 2
}
