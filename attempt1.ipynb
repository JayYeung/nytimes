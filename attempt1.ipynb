{
 "cells": [
  {
   "cell_type": "code",
   "execution_count": 2,
   "metadata": {},
   "outputs": [
    {
     "data": {
      "text/plain": [
       "array([-0.06277172,  0.05495872,  0.05216478,  0.08578996, -0.08274896,\n",
       "       -0.07457294,  0.06855468,  0.01839648, -0.08201128, -0.03738483],\n",
       "      dtype=float32)"
      ]
     },
     "execution_count": 2,
     "metadata": {},
     "output_type": "execute_result"
    }
   ],
   "source": [
    "from time import sleep\n",
    "from functools import cache\n",
    "from keybert import KeyBERT\n",
    "import numpy as np\n",
    "\n",
    "kw_model = KeyBERT(model='all-MiniLM-L6-v2')\n",
    "\n",
    "@cache\n",
    "def create_embeddings(texts):\n",
    "    doc_embeddings = kw_model.extract_embeddings(texts)\n",
    "    if doc_embeddings: \n",
    "        return np.array(doc_embeddings[0][0])\n",
    "    return np.zeros(384)\n",
    "\n",
    "create_embeddings('hello')[:10]"
   ]
  },
  {
   "cell_type": "code",
   "execution_count": 3,
   "metadata": {},
   "outputs": [
    {
     "data": {
      "text/plain": [
       "0.6606376"
      ]
     },
     "execution_count": 3,
     "metadata": {},
     "output_type": "execute_result"
    }
   ],
   "source": [
    "def get_similarity(a, b):\n",
    "    return np.dot(a, b) / (np.linalg.norm(a) * np.linalg.norm(b))   \n",
    "\n",
    "get_similarity(create_embeddings('dog'), create_embeddings('cat'))"
   ]
  },
  {
   "cell_type": "code",
   "execution_count": 19,
   "metadata": {},
   "outputs": [
    {
     "name": "stdout",
     "output_type": "stream",
     "text": [
      "(2.4787303507328033, ('strike', 'ball', 'glove', 'bat'))\n",
      "(2.309135138988495, ('sock', 'honey', 'blow', 'lick'))\n",
      "(1.9411942660808563, ('dust', 'bad', 'iron', 'bugs'))\n",
      "(1.5761931538581848, ('thimble', 'boot', 'base', 'top hat'))\n"
     ]
    }
   ],
   "source": [
    "from itertools import combinations\n",
    "\n",
    "\n",
    "arr = ['DUST', 'STRIKE', 'BAD', 'THIMBLE', 'SOCK', 'BOOT', 'BASE', 'BALL', 'IRON', 'HONEY', 'BLOW', 'TOP HAT', 'GLOVE', 'BAT', 'BUGS', 'LICK']\n",
    "arr = [x.lower() for x in arr if x]\n",
    "\n",
    "for _ in range(len(arr) // 4): \n",
    "    poss = []\n",
    "\n",
    "    for i in combinations(arr, 4):\n",
    "        total_similarity = []\n",
    "        for j in combinations(i, 2):\n",
    "            total_similarity.append(get_similarity(create_embeddings(j[0]), create_embeddings(j[1])))\n",
    "        \n",
    "        score = sum(total_similarity)\n",
    "        poss.append((score, i))\n",
    "        \n",
    "    poss.sort(key=lambda x: x[0], reverse=True)\n",
    "    \n",
    "    print(poss[0])\n",
    "    for i in poss[0][1]:\n",
    "        arr.remove(i)"
   ]
  },
  {
   "cell_type": "code",
   "execution_count": null,
   "metadata": {},
   "outputs": [],
   "source": [
    "from sklearn.model_selection import train_test_split\n",
    "\n",
    "X = np.array(X)\n",
    "Y = np.array(Y)\n",
    "\n",
    "X_train, X_test, Y_train, Y_test = train_test_split(X, Y, test_size = 0.2)\n",
    "\n",
    "from tensorflow.keras.models import Sequential\n",
    "from tensorflow.keras.callbacks import EarlyStopping\n",
    "from tensorflow.keras.layers import Dense, Dropout, BatchNormalization\n",
    "from tensorflow.keras.optimizers.legacy import Adam # legacy faster on m2 macs\n",
    "import tensorflow_addons as tfa\n",
    "\n",
    "model = Sequential([\n",
    "    Dense(512, activation='relu', input_shape=(16*384,)),\n",
    "    BatchNormalization(),\n",
    "    Dropout(0.5),\n",
    "    Dense(256, activation='relu'),\n",
    "    BatchNormalization(),\n",
    "    Dropout(0.5),\n",
    "    Dense(128, activation='relu'),\n",
    "    BatchNormalization(),\n",
    "    Dropout(0.5),\n",
    "    Dense(64, activation='relu'),\n",
    "    BatchNormalization(),\n",
    "    Dropout(0.5),\n",
    "    Dense(1, activation='sigmoid')\n",
    "])\n",
    "\n",
    "model.compile(optimizer=Adam(learning_rate=0.001), loss='binary_crossentropy', metrics=['accuracy'])\n",
    "history = model.fit(X_train, Y_train, epochs=20, batch_size=32, validation_split=0.2)\n",
    "\n",
    "import matplotlib.pyplot as plt\n",
    "\n",
    "plt.figure(figsize=(12, 4))\n",
    "plt.subplot(1, 2, 1)\n",
    "plt.plot(history.history['accuracy'])\n",
    "plt.plot(history.history['val_accuracy'])\n",
    "plt.title('Model accuracy')\n",
    "plt.ylabel('Accuracy')\n",
    "plt.xlabel('Epoch')\n",
    "plt.legend(['Train', 'Val'], loc='upper left')\n",
    "\n",
    "plt.subplot(1, 2, 2)\n",
    "plt.plot(history.history['loss'])\n",
    "plt.plot(history.history['val_loss'])\n",
    "plt.title('Model loss')\n",
    "plt.ylabel('Loss')\n",
    "plt.xlabel('Epoch')\n",
    "plt.legend(['Train', 'Val'], loc='upper left')\n",
    "\n",
    "plt.show()\n",
    " \n",
    "print(f'Train accuracy: {model.evaluate(X_train, Y_train)[1]}')\n",
    "print(f'Val accuracy: {model.evaluate(X_test, Y_test)[1]}')\n",
    "\n",
    "same = 0 \n",
    "for i in model.predict(X_test):\n",
    "    if i[0] > 0.5:\n",
    "        same += 1\n",
    "\n",
    "print(f'Predicted same: {same} out of {len(Y_test)}')\n"
   ]
  }
 ],
 "metadata": {
  "kernelspec": {
   "display_name": "Python 3",
   "language": "python",
   "name": "python3"
  },
  "language_info": {
   "codemirror_mode": {
    "name": "ipython",
    "version": 3
   },
   "file_extension": ".py",
   "mimetype": "text/x-python",
   "name": "python",
   "nbconvert_exporter": "python",
   "pygments_lexer": "ipython3",
   "version": "3.11.6"
  }
 },
 "nbformat": 4,
 "nbformat_minor": 2
}
