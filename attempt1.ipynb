{
 "cells": [
  {
   "cell_type": "code",
   "execution_count": 2,
   "metadata": {},
   "outputs": [
    {
     "data": {
      "text/plain": [
       "array([-0.06277172,  0.05495872,  0.05216478,  0.08578996, -0.08274896,\n",
       "       -0.07457294,  0.06855468,  0.01839648, -0.08201128, -0.03738483],\n",
       "      dtype=float32)"
      ]
     },
     "execution_count": 2,
     "metadata": {},
     "output_type": "execute_result"
    }
   ],
   "source": [
    "from time import sleep\n",
    "from functools import cache\n",
    "from keybert import KeyBERT\n",
    "import numpy as np\n",
    "\n",
    "kw_model = KeyBERT(model='all-MiniLM-L6-v2')\n",
    "\n",
    "@cache\n",
    "def create_embeddings(texts):\n",
    "    doc_embeddings = kw_model.extract_embeddings(texts)\n",
    "    if doc_embeddings: \n",
    "        return np.array(doc_embeddings[0][0])\n",
    "    return np.zeros(384)\n",
    "\n",
    "create_embeddings('hello')[:10]"
   ]
  },
  {
   "cell_type": "code",
   "execution_count": 3,
   "metadata": {},
   "outputs": [
    {
     "data": {
      "text/plain": [
       "0.6606376"
      ]
     },
     "execution_count": 3,
     "metadata": {},
     "output_type": "execute_result"
    }
   ],
   "source": [
    "def get_similarity(a, b):\n",
    "    return np.dot(a, b) / (np.linalg.norm(a) * np.linalg.norm(b))   \n",
    "\n",
    "get_similarity(create_embeddings('dog'), create_embeddings('cat'))"
   ]
  },
  {
   "cell_type": "code",
   "execution_count": 19,
   "metadata": {},
   "outputs": [
    {
     "name": "stdout",
     "output_type": "stream",
     "text": [
      "(2.4787303507328033, ('strike', 'ball', 'glove', 'bat'))\n",
      "(2.309135138988495, ('sock', 'honey', 'blow', 'lick'))\n",
      "(1.9411942660808563, ('dust', 'bad', 'iron', 'bugs'))\n",
      "(1.5761931538581848, ('thimble', 'boot', 'base', 'top hat'))\n"
     ]
    }
   ],
   "source": [
    "from itertools import combinations\n",
    "\n",
    "\n",
    "arr = ['DUST', 'STRIKE', 'BAD', 'THIMBLE', 'SOCK', 'BOOT', 'BASE', 'BALL', 'IRON', 'HONEY', 'BLOW', 'TOP HAT', 'GLOVE', 'BAT', 'BUGS', 'LICK']\n",
    "arr = [x.lower() for x in arr if x]\n",
    "\n",
    "for _ in range(len(arr) // 4): \n",
    "    poss = []\n",
    "\n",
    "    for i in combinations(arr, 4):\n",
    "        total_similarity = []\n",
    "        for j in combinations(i, 2):\n",
    "            total_similarity.append(get_similarity(create_embeddings(j[0]), create_embeddings(j[1])))\n",
    "        \n",
    "        score = sum(total_similarity)\n",
    "        poss.append((score, i))\n",
    "        \n",
    "    poss.sort(key=lambda x: x[0], reverse=True)\n",
    "    \n",
    "    print(poss[0])\n",
    "    for i in poss[0][1]:\n",
    "        arr.remove(i)"
   ]
  },
  {
   "cell_type": "code",
   "execution_count": null,
   "metadata": {},
   "outputs": [],
   "source": []
  }
 ],
 "metadata": {
  "kernelspec": {
   "display_name": "Python 3",
   "language": "python",
   "name": "python3"
  },
  "language_info": {
   "codemirror_mode": {
    "name": "ipython",
    "version": 3
   },
   "file_extension": ".py",
   "mimetype": "text/x-python",
   "name": "python",
   "nbconvert_exporter": "python",
   "pygments_lexer": "ipython3",
   "version": "3.11.6"
  }
 },
 "nbformat": 4,
 "nbformat_minor": 2
}
